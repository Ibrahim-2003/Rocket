{
 "cells": [
  {
   "cell_type": "code",
   "execution_count": 25,
   "metadata": {},
   "outputs": [
    {
     "name": "stdout",
     "output_type": "stream",
     "text": [
      "Length: 0.0508 m\n",
      "Radius: 0.000101 m\n",
      "R: 1.7000 Ohm\n",
      "I: 1.6435 A\n",
      "Temperature @ 2A for t=1s: 1061.57 C\n"
     ]
    }
   ],
   "source": [
    "import math\n",
    "\n",
    "gauge = 32\n",
    "length = 2*2.54/100 # m\n",
    "radius = 0.005*(92**((36 - gauge)/39))/2 * 2.54/100 # m\n",
    "temp_final = 725 # C (temperature at which nichrome wire glows)\n",
    "temp_initial = 25 # C\n",
    "dT = temp_final - temp_initial\n",
    "time = 1 # s\n",
    "heat_capacity = 0.480 # J/(g*C)\n",
    "wire_density = 8400*1000 # kg/m^3\n",
    "rho = 10.2*100/(12*2.54) # Ohm/m\n",
    "R = rho*length\n",
    "I = math.sqrt((math.pi * (radius**2) * length * heat_capacity * dT * wire_density )/(R*time)) # A\n",
    "\n",
    "print(f\"Length: {length:0.4f} m\\nRadius: {radius:0.6f} m\\nR: {R:0.4f} Ohm\\nI: {I:0.4f} A\")\n",
    "\n",
    "I = math.ceil(I)\n",
    "mass = math.pi * (radius**2) * length * wire_density\n",
    "time = 1\n",
    "dT = (R * (I**2) * time)/(mass*heat_capacity)\n",
    "temp_final = temp_initial + dT\n",
    "print(f\"Temperature @ {I}A for t={time}s: {temp_final:0.2f} C\")"
   ]
  }
 ],
 "metadata": {
  "kernelspec": {
   "display_name": "base",
   "language": "python",
   "name": "python3"
  },
  "language_info": {
   "codemirror_mode": {
    "name": "ipython",
    "version": 3
   },
   "file_extension": ".py",
   "mimetype": "text/x-python",
   "name": "python",
   "nbconvert_exporter": "python",
   "pygments_lexer": "ipython3",
   "version": "3.8.8"
  },
  "orig_nbformat": 4
 },
 "nbformat": 4,
 "nbformat_minor": 2
}
